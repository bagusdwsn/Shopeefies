{
 "cells": [
  {
   "cell_type": "code",
   "execution_count": 12,
   "id": "e02e371a-eda3-4b56-bde0-63a4af7a75f4",
   "metadata": {
    "scrolled": true,
    "tags": []
   },
   "outputs": [],
   "source": [
    "import csv\n",
    "import re\n",
    "import json\n",
    "import requests\n",
    "\n",
    "url = 'https://shopee.co.id/IL-SETELAN-BYTHA-MOTIF-BUNGA-TERBARU-ONE-SET-KULOT-BUTTON-2-KANCING-BAHAN-CREPE-PREMIUM-i.669846152.22122528247?xptdk=dfa04a69-6c60-4387-a5b6-22c250f3ffb8'\n",
    "r = re.search(r'i\\.(\\d+)\\.(\\d+)', url)\n",
    "shop_id, item_id = r[1], r[2]\n",
    "ratings_url = 'https://shopee.co.id/api/v2/item/get_ratings?filter=0&flag=1&itemid={item_id}&limit=20&offset={offset}&shopid={shop_id}&type=0'\n",
    "\n",
    "offset = 0\n",
    "max_revs = 1000\n",
    "\n",
    "# Create a CSV file and open it in write mode\n",
    "with open('BADRATINGS.csv', 'w', newline='', encoding='utf-8') as file:\n",
    "    writer = csv.writer(file)\n",
    "\n",
    "    while True:\n",
    "        data = requests.get(ratings_url.format(shop_id=shop_id, item_id=item_id, offset=offset)).json()\n",
    "        \n",
    "        for rating in data['data']['ratings']:\n",
    "            if rating['rating_star'] < 3:\n",
    "                writer.writerow([rating['comment'], rating['rating_star']])\n",
    "\n",
    "        if len(data['data']['ratings']) < 20 or offset >= max_revs:\n",
    "            break\n",
    "        offset += 20\n"
   ]
  },
  {
   "cell_type": "code",
   "execution_count": null,
   "id": "06c3bd7d-3431-4678-aeb1-5a7e9e9bc7e4",
   "metadata": {},
   "outputs": [],
   "source": []
  }
 ],
 "metadata": {
  "kernelspec": {
   "display_name": "Python 3 (ipykernel)",
   "language": "python",
   "name": "python3"
  },
  "language_info": {
   "codemirror_mode": {
    "name": "ipython",
    "version": 3
   },
   "file_extension": ".py",
   "mimetype": "text/x-python",
   "name": "python",
   "nbconvert_exporter": "python",
   "pygments_lexer": "ipython3",
   "version": "3.8.0"
  }
 },
 "nbformat": 4,
 "nbformat_minor": 5
}
